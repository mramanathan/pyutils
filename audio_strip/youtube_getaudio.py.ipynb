{
 "cells": [
  {
   "cell_type": "code",
   "execution_count": null,
   "metadata": {
    "collapsed": true
   },
   "outputs": [],
   "source": [
    "#!/usr/bin/env python\n",
    "\n",
    "import os\n",
    "import subprocess\n",
    "import argparse\n",
    "import regex\n",
    "\n",
    "audio_title = \"youtube-dl --get-title \"\n",
    "utube_cmd = \"youtube-dl -x \"\n",
    "\n",
    "def youtubeId(link):\n",
    "    \n",
    "    \"\"\" strip the standard youtube link \n",
    "    and get the video id.\n",
    "    \"\"\"\n",
    "    \n",
    "    videoid = re.split(\"=\", link)\n",
    "    print(\"{0} is the ID of the youtoube link, {1}\".format(videoid, link))\n",
    "    \n",
    "    return videoid\n",
    "    \n",
    "\n",
    "\n",
    "def main():\n",
    "    \"\"\" Collect user inputs to get youtube URL, \n",
    "    pass it onto relevant functions to strip\n",
    "    video and fetch only audio.    \n",
    "    \"\"\"\n",
    "    \n",
    "    parser = argparse.ArgumentParser(\"Grab the audio from the given youtube url\")\n",
    "    parser.add_argument(\"-l\", \"--link\" metavar=\"youtube link\", help=\"Provide the youtube URL here\")\n",
    "    \n",
    "if __name__ == \"main\":\n",
    "    main()"
   ]
  }
 ],
 "metadata": {
  "kernelspec": {
   "display_name": "Python 2",
   "language": "python",
   "name": "python2"
  },
  "language_info": {
   "codemirror_mode": {
    "name": "ipython",
    "version": 2
   },
   "file_extension": ".py",
   "mimetype": "text/x-python",
   "name": "python",
   "nbconvert_exporter": "python",
   "pygments_lexer": "ipython2",
   "version": "2.7.12"
  }
 },
 "nbformat": 4,
 "nbformat_minor": 1
}
