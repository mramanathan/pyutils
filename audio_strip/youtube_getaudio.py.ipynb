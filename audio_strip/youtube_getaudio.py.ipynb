{
 "cells": [
  {
   "cell_type": "code",
   "execution_count": null,
   "metadata": {
    "collapsed": true
   },
   "outputs": [],
   "source": [
    "#!/usr/bin/env python\n",
    "\n",
    "import os\n",
    "import subprocess\n",
    "\n",
    "\n",
    "title = \"youtube-dl --get-title \"\n",
    "utube_cmd = \"youtube-dl -x \"\n",
    "\n",
    "def main():\n",
    "    \"\"\" Collect user inputs to get youtube URL, \n",
    "    pass it onto relevant functions to strip\n",
    "    video and fetch only audio.    \n",
    "    \"\"\"\n",
    "    \n",
    "if __name__ == \"main\":\n",
    "    main()"
   ]
  }
 ],
 "metadata": {
  "kernelspec": {
   "display_name": "Python 3",
   "language": "python",
   "name": "python3"
  },
  "language_info": {
   "codemirror_mode": {
    "name": "ipython",
    "version": 3
   },
   "file_extension": ".py",
   "mimetype": "text/x-python",
   "name": "python",
   "nbconvert_exporter": "python",
   "pygments_lexer": "ipython3",
   "version": "3.5.2"
  }
 },
 "nbformat": 4,
 "nbformat_minor": 1
}
